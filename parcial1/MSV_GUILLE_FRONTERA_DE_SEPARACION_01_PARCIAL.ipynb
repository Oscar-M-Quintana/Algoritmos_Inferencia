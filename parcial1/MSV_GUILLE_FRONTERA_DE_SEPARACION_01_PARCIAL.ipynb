{
 "cells": [
  {
   "cell_type": "code",
   "execution_count": 1,
   "metadata": {},
   "outputs": [],
   "source": [
    "import numpy as np\n",
    "import pandas as pd\n",
    "from sklearn import svm\n",
    "from sklearn.preprocessing import StandardScaler\n",
    "import matplotlib.pyplot as plt\n",
    "from sklearn.model_selection import train_test_split"
   ]
  },
  {
   "cell_type": "code",
   "execution_count": 2,
   "metadata": {},
   "outputs": [],
   "source": [
    "# Paso 1: Cargar el dataset\n",
    "# Aquí asumo que ya tienes el dataset cargado en 'data.csv'\n",
    "df = pd.read_csv('C:/Users/Guillermo/Documents/Inferencia_Estadistica_Grupo/BBDD/Clasificacion_banco.csv')"
   ]
  },
  {
   "cell_type": "code",
   "execution_count": 3,
   "metadata": {},
   "outputs": [],
   "source": [
    "# Seleccionar las características que deseas utilizar\n",
    "X = df[['fico', 'installment']]  # Usa solo 2 features para facilitar la visualización\n",
    "y = df['not.fully.paid']"
   ]
  },
  {
   "cell_type": "code",
   "execution_count": 4,
   "metadata": {},
   "outputs": [],
   "source": [
    "# Paso 2: Preprocesar los datos\n",
    "scaler = StandardScaler()\n",
    "X = scaler.fit_transform(X)"
   ]
  },
  {
   "cell_type": "code",
   "execution_count": 5,
   "metadata": {},
   "outputs": [],
   "source": [
    "# Paso 3: Separar los datos de entrenamiento y prueba\n",
    "X_train, X_test, y_train, y_test = train_test_split(X, y, test_size=0.2, random_state=42)"
   ]
  },
  {
   "cell_type": "code",
   "execution_count": 7,
   "metadata": {},
   "outputs": [],
   "source": [
    "# Implementación de la clase SVM\n",
    "class SVM(object):\n",
    "    def fit_hard(self, X, y):\n",
    "        # Crear un clasificador SVM de margen duro\n",
    "        model = svm.SVC(kernel='linear', C=1e10)  # Un C muy grande simula un margen duro\n",
    "        model.fit(X, y)\n",
    "        return model\n",
    "    \n",
    "    def fit_soft(self, X, y, C):\n",
    "        # Crear un clasificador SVM de margen blando\n",
    "        model = svm.SVC(kernel='linear', C=C)  # C controla el margen blando\n",
    "        model.fit(X, y)\n",
    "        return model"
   ]
  },
  {
   "cell_type": "code",
   "execution_count": null,
   "metadata": {},
   "outputs": [],
   "source": [
    "# Paso 4: Entrenar ambos modelos"
   ]
  },
  {
   "cell_type": "code",
   "execution_count": 8,
   "metadata": {},
   "outputs": [],
   "source": [
    "# Crear una instancia de la clase SVM\n",
    "svm_classifier = SVM()"
   ]
  },
  {
   "cell_type": "code",
   "execution_count": null,
   "metadata": {},
   "outputs": [],
   "source": [
    "# Entrenar SVM de margen duro\n",
    "hard_svm_model = svm_classifier.fit_hard(X_train, y_train)"
   ]
  },
  {
   "cell_type": "code",
   "execution_count": null,
   "metadata": {},
   "outputs": [],
   "source": [
    "# Entrenar SVM de margen blando con un C determinado\n",
    "soft_svm_model = svm_classifier.fit_soft(X_train, y_train, C=1.0)"
   ]
  },
  {
   "cell_type": "code",
   "execution_count": null,
   "metadata": {},
   "outputs": [],
   "source": [
    "# Paso 5: Graficar la frontera de separación y las rectas paralelas\n",
    "\n",
    "def plot_decision_boundary(model, X, y, title):\n",
    "    # Crear una malla para visualizar la frontera\n",
    "    h = .02  # Tamaño de los pasos en la malla\n",
    "    x_min, x_max = X[:, 0].min() - 1, X[:, 0].max() + 1\n",
    "    y_min, y_max = X[:, 1].min() - 1, X[:, 1].max() + 1\n",
    "    xx, yy = np.meshgrid(np.arange(x_min, x_max, h), np.arange(y_min, y_max, h))\n",
    "\n",
    "    # Predecir en todos los puntos de la malla\n",
    "    Z = model.predict(np.c_[xx.ravel(), yy.ravel()])\n",
    "    Z = Z.reshape(xx.shape)\n",
    "\n",
    "    # Graficar la frontera de decisión y las clases\n",
    "    plt.contourf(xx, yy, Z, cmap=plt.cm.coolwarm, alpha=0.8)\n",
    "    plt.scatter(X[:, 0], X[:, 1], c=y, cmap=plt.cm.coolwarm, edgecolors='k')\n",
    "    \n",
    "    # Graficar los vectores de soporte\n",
    "    plt.scatter(model.support_vectors_[:, 0], model.support_vectors_[:, 1], facecolors='none', edgecolors='k', s=100, linewidths=1.5)\n",
    "    \n",
    "    plt.title(title)\n",
    "    plt.xlabel('FICO')\n",
    "    plt.ylabel('Installment')\n",
    "    plt.show()"
   ]
  },
  {
   "cell_type": "code",
   "execution_count": null,
   "metadata": {},
   "outputs": [],
   "source": [
    "# Graficar el SVM de margen duro\n",
    "plot_decision_boundary(hard_svm_model, X_train, y_train, \"Frontera de SVM de Margen Duro\")\n",
    "\n",
    "# Graficar el SVM de margen blando\n",
    "plot_decision_boundary(soft_svm_model, X_train, y_train, \"Frontera de SVM de Margen Blando\")"
   ]
  },
  {
   "cell_type": "code",
   "execution_count": null,
   "metadata": {},
   "outputs": [],
   "source": []
  }
 ],
 "metadata": {
  "kernelspec": {
   "display_name": "Python 3",
   "language": "python",
   "name": "python3"
  },
  "language_info": {
   "codemirror_mode": {
    "name": "ipython",
    "version": 3
   },
   "file_extension": ".py",
   "mimetype": "text/x-python",
   "name": "python",
   "nbconvert_exporter": "python",
   "pygments_lexer": "ipython3",
   "version": "3.12.5"
  }
 },
 "nbformat": 4,
 "nbformat_minor": 2
}
