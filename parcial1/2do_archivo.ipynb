{
 "cells": [
  {
   "cell_type": "code",
   "execution_count": 1,
   "metadata": {},
   "outputs": [],
   "source": [
    "# Importar bibliotecas necesarias\n",
    "import pandas as pd\n",
    "import numpy as np\n",
    "import matplotlib.pyplot as plt\n",
    "from sklearn.model_selection import train_test_split, cross_val_score\n",
    "from sklearn.preprocessing import StandardScaler\n",
    "from sklearn.decomposition import PCA\n",
    "from sklearn.metrics import classification_report\n",
    "from sklearn.discriminant_analysis import LinearDiscriminantAnalysis, QuadraticDiscriminantAnalysis\n",
    "from sklearn.naive_bayes import GaussianNB\n",
    "from sklearn.model_selection import GridSearchCV\n",
    "from sklearn.svm import SVC\n",
    "from sklearn.metrics import confusion_matrix, ConfusionMatrixDisplay\n",
    "\n"
   ]
  },
  {
   "cell_type": "code",
   "execution_count": 2,
   "metadata": {},
   "outputs": [
    {
     "name": "stdout",
     "output_type": "stream",
     "text": [
      "Conjunto de entrenamiento: (6704, 18), Conjunto de prueba: (2874, 18)\n"
     ]
    }
   ],
   "source": [
    "# Cargar el dataset original\n",
    "df = pd.read_csv('./Clasificacion_banco.csv')\n",
    "\n",
    "# Convertir las variables categóricas en variables numéricas con One-Hot Encoding\n",
    "X = df.drop('not.fully.paid', axis=1)  # Características (X)\n",
    "y = df['not.fully.paid']  # Variable objetivo (y)\n",
    "\n",
    "# Aplicar One-Hot Encoding a las variables categóricas\n",
    "X = pd.get_dummies(X, drop_first=True)\n",
    "\n",
    "# Dividir el dataset en conjunto de entrenamiento y prueba\n",
    "X_train, X_test, y_train, y_test = train_test_split(X, y, test_size=0.3, random_state=42)\n",
    "\n",
    "# Estandarizar las características\n",
    "scaler = StandardScaler()\n",
    "X_train_scaled = scaler.fit_transform(X_train)\n",
    "X_test_scaled = scaler.transform(X_test)\n",
    "\n",
    "# Mostrar la forma de los conjuntos de entrenamiento y prueba para verificar\n",
    "print(f\"Conjunto de entrenamiento: {X_train.shape}, Conjunto de prueba: {X_test.shape}\")\n"
   ]
  },
  {
   "cell_type": "markdown",
   "metadata": {},
   "source": [
    "## Cargar el dataset y preparar las variables categóricas\n",
    "\n",
    "En este bloque de código:\n",
    "1. **Cargamos el dataset** desde un archivo CSV utilizando `pandas` y asignamos las características a la variable `X` y la variable objetivo (si no pagó) a `y`.\n",
    "2. **One-Hot Encoding**: Aplicamos One-Hot Encoding para convertir las variables categóricas en variables numéricas que los algoritmos de machine learning puedan procesar. Utilizamos `pd.get_dummies` para esta transformación, eliminando la primera columna con `drop_first=True` para evitar multicolinealidad.\n",
    "3. **Dividimos el dataset** en un conjunto de entrenamiento y otro de prueba, usando un 70% de los datos para el entrenamiento (`X_train` y `y_train`) y el 30% restante para la prueba (`X_test` y `y_test`). Usamos `train_test_split` de `scikit-learn` para realizar la división.\n",
    "4. **Estandarización**: Utilizamos `StandardScaler()` para escalar las características en ambos conjuntos, de manera que todas las variables tengan una media de 0 y una desviación estándar de 1. Esto es importante para algoritmos como QDA, LDA, y SVM que son sensibles a la escala de los datos.\n",
    "5. Finalmente, verificamos la forma de los conjuntos de datos impresos para asegurarnos de que la separación fue exitosa.\n"
   ]
  },
  {
   "cell_type": "code",
   "execution_count": 3,
   "metadata": {},
   "outputs": [
    {
     "data": {
      "image/png": "[encoded data removed]",
      "text/plain": [
       "<Figure size 432x288 with 2 Axes>"
      ]
     },
     "metadata": {
      "needs_background": "light"
     },
     "output_type": "display_data"
    },
    {
     "name": "stdout",
     "output_type": "stream",
     "text": [
      "Informe de Clasificación - Naive Bayes\n",
      "              precision    recall  f1-score   support\n",
      "\n",
      "           0       0.84      0.96      0.90      2408\n",
      "           1       0.30      0.09      0.14       466\n",
      "\n",
      "    accuracy                           0.82      2874\n",
      "   macro avg       0.57      0.52      0.52      2874\n",
      "weighted avg       0.76      0.82      0.78      2874\n",
      "\n"
     ]
    }
   ],
   "source": [
    "# Crear el modelo Naive Bayes\n",
    "model_nb = GaussianNB()\n",
    "\n",
    "# Entrenar el modelo con el conjunto de entrenamiento\n",
    "model_nb.fit(X_train, y_train)\n",
    "\n",
    "# Hacer predicciones en el conjunto de prueba\n",
    "y_pred_nb = model_nb.predict(X_test)\n",
    "\n",
    "# Generar la matriz de confusión y almacenarla\n",
    "cm_nb = confusion_matrix(y_test, y_pred_nb)\n",
    "disp_nb = ConfusionMatrixDisplay(confusion_matrix=cm_nb)\n",
    "disp_nb.plot(cmap='Blues')\n",
    "\n",
    "# Mostrar la matriz de confusión\n",
    "plt.title('Matriz de Confusión - Naive Bayes')\n",
    "plt.show()\n",
    "\n",
    "# Generar y almacenar el informe de clasificación\n",
    "nb_report = classification_report(y_test, y_pred_nb)\n",
    "print(\"Informe de Clasificación - Naive Bayes\")\n",
    "print(nb_report)\n",
    "\n",
    "# Guardar la matriz de confusión para análisis posterior\n",
    "nb_confusion_matrix = cm_nb\n",
    "\n",
    "\n"
   ]
  },
  {
   "cell_type": "markdown",
   "metadata": {},
   "source": [
    "## Entrenamiento del modelo Naive Bayes\n",
    "\n",
    "En este bloque de código, entrenamos un modelo **Naive Bayes (GaussianNB)** y evaluamos su rendimiento con una **matriz de confusión** y un **informe de clasificación**. Almacenamos estos resultados en variables para analizarlos posteriormente.\n",
    "\n",
    "1. **Entrenamiento del modelo**: \n",
    "   - Creamos una instancia del modelo `GaussianNB()` y entrenamos el modelo con los datos de entrenamiento.\n",
    "\n",
    "2. **Predicciones**: \n",
    "   - Realizamos predicciones en el conjunto de prueba con el modelo entrenado.\n",
    "\n",
    "3. **Matriz de Confusión**: \n",
    "   - Generamos y visualizamos la matriz de confusión usando `confusion_matrix()` y `ConfusionMatrixDisplay()`. La matriz se almacena en la variable `nb_confusion_matrix` para un análisis posterior.\n",
    "\n",
    "4. **Informe de Clasificación**: \n",
    "   - Generamos y almacenamos el informe de clasificación en la variable `nb_report`. Este informe incluye las métricas de precisión, recall, f1-score y soporte para cada clase.\n"
   ]
  },
  {
   "cell_type": "code",
   "execution_count": 4,
   "metadata": {},
   "outputs": [
    {
     "data": {
      "image/png": "[encoded data removed]",
      "text/plain": [
       "<Figure size 432x288 with 2 Axes>"
      ]
     },
     "metadata": {
      "needs_background": "light"
     },
     "output_type": "display_data"
    },
    {
     "name": "stdout",
     "output_type": "stream",
     "text": [
      "Informe de Clasificación - LDA\n",
      "              precision    recall  f1-score   support\n",
      "\n",
      "           0       0.84      0.99      0.91      2408\n",
      "           1       0.52      0.05      0.09       466\n",
      "\n",
      "    accuracy                           0.84      2874\n",
      "   macro avg       0.68      0.52      0.50      2874\n",
      "weighted avg       0.79      0.84      0.78      2874\n",
      "\n"
     ]
    }
   ],
   "source": [
    "# Crear el modelo LDA\n",
    "model_lda = LinearDiscriminantAnalysis()\n",
    "\n",
    "# Entrenar el modelo con el conjunto de entrenamiento\n",
    "model_lda.fit(X_train, y_train)\n",
    "\n",
    "# Hacer predicciones en el conjunto de prueba\n",
    "y_pred_lda = model_lda.predict(X_test)\n",
    "\n",
    "# Generar la matriz de confusión y almacenarla\n",
    "cm_lda = confusion_matrix(y_test, y_pred_lda)\n",
    "disp_lda = ConfusionMatrixDisplay(confusion_matrix=cm_lda)\n",
    "disp_lda.plot(cmap='Blues')\n",
    "\n",
    "# Mostrar la matriz de confusión\n",
    "plt.title('Matriz de Confusión - LDA')\n",
    "plt.show()\n",
    "\n",
    "# Generar y almacenar el informe de clasificación\n",
    "lda_report = classification_report(y_test, y_pred_lda)\n",
    "print(\"Informe de Clasificación - LDA\")\n",
    "print(lda_report)\n",
    "\n",
    "# Guardar la matriz de confusión para análisis posterior\n",
    "lda_confusion_matrix = cm_lda\n"
   ]
  },
  {
   "cell_type": "markdown",
   "metadata": {},
   "source": [
    "## Entrenamiento del modelo LDA\n",
    "\n",
    "En este bloque de código, entrenamos un modelo **Linear Discriminant Analysis (LDA)** y evaluamos su rendimiento con una **matriz de confusión** y un **informe de clasificación**. Almacenamos estos resultados en variables para analizarlos posteriormente.\n",
    "\n",
    "1. **Entrenamiento del modelo**: \n",
    "   - Creamos una instancia del modelo `LinearDiscriminantAnalysis()` y entrenamos el modelo con los datos de entrenamiento.\n",
    "\n",
    "2. **Predicciones**: \n",
    "   - Realizamos predicciones en el conjunto de prueba con el modelo entrenado.\n",
    "\n",
    "3. **Matriz de Confusión**: \n",
    "   - Generamos y visualizamos la matriz de confusión usando `confusion_matrix()` y `ConfusionMatrixDisplay()`. La matriz se almacena en la variable `lda_confusion_matrix` para un análisis posterior.\n",
    "\n",
    "4. **Informe de Clasificación**: \n",
    "   - Generamos y almacenamos el informe de clasificación en la variable `lda_report`. Este informe incluye las métricas de precisión, recall, f1-score y soporte para cada clase.\n"
   ]
  },
  {
   "cell_type": "code",
   "execution_count": 5,
   "metadata": {},
   "outputs": [
    {
     "data": {
      "image/png": "[encoded data removed]",
      "text/plain": [
       "<Figure size 432x288 with 2 Axes>"
      ]
     },
     "metadata": {
      "needs_background": "light"
     },
     "output_type": "display_data"
    },
    {
     "name": "stdout",
     "output_type": "stream",
     "text": [
      "Informe de Clasificación - QDA\n",
      "              precision    recall  f1-score   support\n",
      "\n",
      "           0       0.86      0.87      0.86      2408\n",
      "           1       0.28      0.28      0.28       466\n",
      "\n",
      "    accuracy                           0.77      2874\n",
      "   macro avg       0.57      0.57      0.57      2874\n",
      "weighted avg       0.77      0.77      0.77      2874\n",
      "\n"
     ]
    }
   ],
   "source": [
    "# Crear el modelo QDA\n",
    "model_qda = QuadraticDiscriminantAnalysis()\n",
    "\n",
    "# Entrenar el modelo con el conjunto de entrenamiento\n",
    "model_qda.fit(X_train, y_train)\n",
    "\n",
    "# Hacer predicciones en el conjunto de prueba\n",
    "y_pred_qda = model_qda.predict(X_test)\n",
    "\n",
    "# Generar la matriz de confusión y almacenarla\n",
    "cm_qda = confusion_matrix(y_test, y_pred_qda)\n",
    "disp_qda = ConfusionMatrixDisplay(confusion_matrix=cm_qda)\n",
    "disp_qda.plot(cmap='Blues')\n",
    "\n",
    "# Mostrar la matriz de confusión\n",
    "plt.title('Matriz de Confusión - QDA')\n",
    "plt.show()\n",
    "\n",
    "# Generar y almacenar el informe de clasificación\n",
    "qda_report = classification_report(y_test, y_pred_qda)\n",
    "print(\"Informe de Clasificación - QDA\")\n",
    "print(qda_report)\n",
    "\n",
    "# Guardar la matriz de confusión para análisis posterior\n",
    "qda_confusion_matrix = cm_qda\n"
   ]
  },
  {
   "cell_type": "code",
   "execution_count": 20,
   "metadata": {},
   "outputs": [
    {
     "data": {
      "image/png": "[encoded data removed]",
      "text/plain": [
       "<Figure size 432x288 with 2 Axes>"
      ]
     },
     "metadata": {
      "needs_background": "light"
     },
     "output_type": "display_data"
    },
    {
     "name": "stderr",
     "output_type": "stream",
     "text": [
      "c:\\Users\\leli_\\AppData\\Local\\Programs\\Python\\Python310\\lib\\site-packages\\sklearn\\metrics\\_classification.py:1517: UndefinedMetricWarning: Precision is ill-defined and being set to 0.0 in labels with no predicted samples. Use `zero_division` parameter to control this behavior.\n",
      "  _warn_prf(average, modifier, f\"{metric.capitalize()} is\", len(result))\n",
      "c:\\Users\\leli_\\AppData\\Local\\Programs\\Python\\Python310\\lib\\site-packages\\sklearn\\metrics\\_classification.py:1517: UndefinedMetricWarning: Precision is ill-defined and being set to 0.0 in labels with no predicted samples. Use `zero_division` parameter to control this behavior.\n",
      "  _warn_prf(average, modifier, f\"{metric.capitalize()} is\", len(result))\n",
      "c:\\Users\\leli_\\AppData\\Local\\Programs\\Python\\Python310\\lib\\site-packages\\sklearn\\metrics\\_classification.py:1517: UndefinedMetricWarning: Precision is ill-defined and being set to 0.0 in labels with no predicted samples. Use `zero_division` parameter to control this behavior.\n",
      "  _warn_prf(average, modifier, f\"{metric.capitalize()} is\", len(result))\n"
     ]
    },
    {
     "name": "stdout",
     "output_type": "stream",
     "text": [
      "Informe de Clasificación - SVM (kernel=linear)\n",
      "              precision    recall  f1-score   support\n",
      "\n",
      "           0       0.84      1.00      0.91      2408\n",
      "           1       0.00      0.00      0.00       466\n",
      "\n",
      "    accuracy                           0.84      2874\n",
      "   macro avg       0.42      0.50      0.46      2874\n",
      "weighted avg       0.70      0.84      0.76      2874\n",
      "\n"
     ]
    },
    {
     "data": {
      "image/png": "[encoded data removed]",
      "text/plain": [
       "<Figure size 432x288 with 2 Axes>"
      ]
     },
     "metadata": {
      "needs_background": "light"
     },
     "output_type": "display_data"
    },
    {
     "name": "stdout",
     "output_type": "stream",
     "text": [
      "Informe de Clasificación - SVM (kernel=poly)\n",
      "              precision    recall  f1-score   support\n",
      "\n",
      "           0       0.84      0.99      0.91      2408\n",
      "           1       0.39      0.03      0.05       466\n",
      "\n",
      "    accuracy                           0.84      2874\n",
      "   macro avg       0.62      0.51      0.48      2874\n",
      "weighted avg       0.77      0.84      0.77      2874\n",
      "\n"
     ]
    },
    {
     "data": {
      "image/png": "[encoded data removed]",
      "text/plain": [
       "<Figure size 432x288 with 2 Axes>"
      ]
     },
     "metadata": {
      "needs_background": "light"
     },
     "output_type": "display_data"
    },
    {
     "name": "stdout",
     "output_type": "stream",
     "text": [
      "Informe de Clasificación - SVM (kernel=rbf)\n",
      "              precision    recall  f1-score   support\n",
      "\n",
      "           0       0.84      1.00      0.91      2408\n",
      "           1       0.67      0.00      0.01       466\n",
      "\n",
      "    accuracy                           0.84      2874\n",
      "   macro avg       0.75      0.50      0.46      2874\n",
      "weighted avg       0.81      0.84      0.77      2874\n",
      "\n"
     ]
    }
   ],
   "source": [
    "# Lista de kernels a probar\n",
    "kernels = ['linear', 'poly', 'rbf']\n",
    "svm_reports = {}\n",
    "svm_confusion_matrices = {}\n",
    "\n",
    "for kernel in kernels:\n",
    "    # Crear el modelo SVM con el kernel actual\n",
    "    model_svm = SVC(kernel=kernel, random_state=42)\n",
    "    \n",
    "    # Entrenar el modelo con el conjunto de entrenamiento escalado\n",
    "    model_svm.fit(X_train_scaled, y_train)\n",
    "    \n",
    "    # Hacer predicciones en el conjunto de prueba\n",
    "    y_pred_svm = model_svm.predict(X_test_scaled)\n",
    "    \n",
    "    # Generar la matriz de confusión\n",
    "    cm_svm = confusion_matrix(y_test, y_pred_svm)\n",
    "    disp_svm = ConfusionMatrixDisplay(confusion_matrix=cm_svm)\n",
    "    disp_svm.plot(cmap='Blues')\n",
    "    \n",
    "    # Mostrar la matriz de confusión\n",
    "    plt.title(f'Matriz de Confusión - SVM (kernel={kernel})')\n",
    "    plt.show()\n",
    "    \n",
    "    # Generar y almacenar el informe de clasificación\n",
    "    svm_report = classification_report(y_test, y_pred_svm)\n",
    "    print(f\"Informe de Clasificación - SVM (kernel={kernel})\")\n",
    "    print(svm_report)\n",
    "    \n",
    "    # Guardar los resultados para análisis posterior\n",
    "    svm_reports[kernel] = svm_report\n",
    "    svm_confusion_matrices[kernel] = cm_svm\n"
   ]
  },
  {
   "cell_type": "markdown",
   "metadata": {},
   "source": [
    "## Entrenamiento del modelo SVM con diferentes kernels\n",
    "\n",
    "En este bloque de código, entrenamos un modelo **SVM (Support Vector Machine)** utilizando tres kernels diferentes: **lineal**, **polinomial** y **RBF**. Evaluamos el rendimiento de cada kernel generando la **matriz de confusión** y el **informe de clasificación**.\n",
    "\n",
    "1. **Entrenamiento del modelo SVM**: \n",
    "   - Probamos tres kernels diferentes (`linear`, `poly`, `rbf`) utilizando la clase `SVC` de `scikit-learn`. \n",
    "   - Cada modelo se entrena con los datos escalados (`X_train_scaled` y `y_train`) y se evalúa en el conjunto de prueba.\n",
    "\n",
    "2. **Predicciones**: \n",
    "   - Para cada kernel, realizamos predicciones en el conjunto de prueba y generamos una matriz de confusión y un informe de clasificación.\n",
    "\n",
    "3. **Matriz de Confusión**: \n",
    "   - Mostramos una matriz de confusión por cada kernel, visualizando el número de verdaderos positivos, verdaderos negativos, falsos positivos y falsos negativos.\n",
    "\n",
    "4. **Informe de Clasificación**: \n",
    "   - Se genera y almacena un informe de clasificación para cada kernel, proporcionando métricas clave como la precisión, recall y F1-score.\n"
   ]
  },
  {
   "cell_type": "code",
   "execution_count": 7,
   "metadata": {},
   "outputs": [
    {
     "data": {
      "image/png": "[encoded data removed]",
      "text/plain": [
       "<Figure size 432x288 with 2 Axes>"
      ]
     },
     "metadata": {
      "needs_background": "light"
     },
     "output_type": "display_data"
    },
    {
     "name": "stderr",
     "output_type": "stream",
     "text": [
      "c:\\Users\\leli_\\AppData\\Local\\Programs\\Python\\Python310\\lib\\site-packages\\sklearn\\metrics\\_classification.py:1517: UndefinedMetricWarning: Precision is ill-defined and being set to 0.0 in labels with no predicted samples. Use `zero_division` parameter to control this behavior.\n",
      "  _warn_prf(average, modifier, f\"{metric.capitalize()} is\", len(result))\n",
      "c:\\Users\\leli_\\AppData\\Local\\Programs\\Python\\Python310\\lib\\site-packages\\sklearn\\metrics\\_classification.py:1517: UndefinedMetricWarning: Precision is ill-defined and being set to 0.0 in labels with no predicted samples. Use `zero_division` parameter to control this behavior.\n",
      "  _warn_prf(average, modifier, f\"{metric.capitalize()} is\", len(result))\n",
      "c:\\Users\\leli_\\AppData\\Local\\Programs\\Python\\Python310\\lib\\site-packages\\sklearn\\metrics\\_classification.py:1517: UndefinedMetricWarning: Precision is ill-defined and being set to 0.0 in labels with no predicted samples. Use `zero_division` parameter to control this behavior.\n",
      "  _warn_prf(average, modifier, f\"{metric.capitalize()} is\", len(result))\n"
     ]
    },
    {
     "name": "stdout",
     "output_type": "stream",
     "text": [
      "Informe de Clasificación - SVM (kernel=linear) con PCA\n",
      "              precision    recall  f1-score   support\n",
      "\n",
      "           0       0.84      1.00      0.91      2408\n",
      "           1       0.00      0.00      0.00       466\n",
      "\n",
      "    accuracy                           0.84      2874\n",
      "   macro avg       0.42      0.50      0.46      2874\n",
      "weighted avg       0.70      0.84      0.76      2874\n",
      "\n"
     ]
    },
    {
     "data": {
      "image/png": "[encoded data removed]",
      "text/plain": [
       "<Figure size 432x288 with 2 Axes>"
      ]
     },
     "metadata": {
      "needs_background": "light"
     },
     "output_type": "display_data"
    },
    {
     "name": "stdout",
     "output_type": "stream",
     "text": [
      "Informe de Clasificación - SVM (kernel=poly) con PCA\n",
      "              precision    recall  f1-score   support\n",
      "\n",
      "           0       0.84      1.00      0.91      2408\n",
      "           1       0.67      0.00      0.01       466\n",
      "\n",
      "    accuracy                           0.84      2874\n",
      "   macro avg       0.75      0.50      0.46      2874\n",
      "weighted avg       0.81      0.84      0.77      2874\n",
      "\n"
     ]
    },
    {
     "data": {
      "image/png": "[encoded data removed]",
      "text/plain": [
       "<Figure size 432x288 with 2 Axes>"
      ]
     },
     "metadata": {
      "needs_background": "light"
     },
     "output_type": "display_data"
    },
    {
     "name": "stdout",
     "output_type": "stream",
     "text": [
      "Informe de Clasificación - SVM (kernel=rbf) con PCA\n",
      "              precision    recall  f1-score   support\n",
      "\n",
      "           0       0.84      1.00      0.91      2408\n",
      "           1       0.00      0.00      0.00       466\n",
      "\n",
      "    accuracy                           0.84      2874\n",
      "   macro avg       0.42      0.50      0.46      2874\n",
      "weighted avg       0.70      0.84      0.76      2874\n",
      "\n"
     ]
    },
    {
     "name": "stderr",
     "output_type": "stream",
     "text": [
      "c:\\Users\\leli_\\AppData\\Local\\Programs\\Python\\Python310\\lib\\site-packages\\sklearn\\metrics\\_classification.py:1517: UndefinedMetricWarning: Precision is ill-defined and being set to 0.0 in labels with no predicted samples. Use `zero_division` parameter to control this behavior.\n",
      "  _warn_prf(average, modifier, f\"{metric.capitalize()} is\", len(result))\n",
      "c:\\Users\\leli_\\AppData\\Local\\Programs\\Python\\Python310\\lib\\site-packages\\sklearn\\metrics\\_classification.py:1517: UndefinedMetricWarning: Precision is ill-defined and being set to 0.0 in labels with no predicted samples. Use `zero_division` parameter to control this behavior.\n",
      "  _warn_prf(average, modifier, f\"{metric.capitalize()} is\", len(result))\n",
      "c:\\Users\\leli_\\AppData\\Local\\Programs\\Python\\Python310\\lib\\site-packages\\sklearn\\metrics\\_classification.py:1517: UndefinedMetricWarning: Precision is ill-defined and being set to 0.0 in labels with no predicted samples. Use `zero_division` parameter to control this behavior.\n",
      "  _warn_prf(average, modifier, f\"{metric.capitalize()} is\", len(result))\n"
     ]
    }
   ],
   "source": [
    "# Aplicar PCA para reducción de dimensionalidad\n",
    "pca = PCA(n_components=10)  # Selecciona un número adecuado de componentes principales\n",
    "X_train_pca = pca.fit_transform(X_train_scaled)\n",
    "X_test_pca = pca.transform(X_test_scaled)\n",
    "\n",
    "# Lista de kernels a probar\n",
    "kernels = ['linear', 'poly', 'rbf']\n",
    "svm_reports_pca = {}\n",
    "svm_confusion_matrices_pca = {}\n",
    "\n",
    "for kernel in kernels:\n",
    "    # Crear el modelo SVM con el kernel actual\n",
    "    model_svm = SVC(kernel=kernel, random_state=42)\n",
    "    \n",
    "    # Entrenar el modelo con el conjunto de entrenamiento con PCA\n",
    "    model_svm.fit(X_train_pca, y_train)\n",
    "    \n",
    "    # Hacer predicciones en el conjunto de prueba con PCA\n",
    "    y_pred_svm = model_svm.predict(X_test_pca)\n",
    "    \n",
    "    # Generar la matriz de confusión\n",
    "    cm_svm_pca = confusion_matrix(y_test, y_pred_svm)\n",
    "    disp_svm_pca = ConfusionMatrixDisplay(confusion_matrix=cm_svm_pca)\n",
    "    disp_svm_pca.plot(cmap='Blues')\n",
    "    \n",
    "    # Mostrar la matriz de confusión\n",
    "    plt.title(f'Matriz de Confusión - SVM (kernel={kernel}) con PCA')\n",
    "    plt.show()\n",
    "    \n",
    "    # Generar y almacenar el informe de clasificación\n",
    "    svm_report_pca = classification_report(y_test, y_pred_svm)\n",
    "    print(f\"Informe de Clasificación - SVM (kernel={kernel}) con PCA\")\n",
    "    print(svm_report_pca)\n",
    "    \n",
    "    # Guardar los resultados para análisis posterior\n",
    "    svm_reports_pca[kernel] = svm_report_pca\n",
    "    svm_confusion_matrices_pca[kernel] = cm_svm_pca\n"
   ]
  },
  {
   "cell_type": "markdown",
   "metadata": {},
   "source": [
    "## Entrenamiento del modelo SVM con diferentes kernels y PCA\n",
    "\n",
    "En este bloque de código, aplicamos **PCA** (Análisis de Componentes Principales) para reducir la dimensionalidad de los datos y luego entrenamos el modelo **SVM (Support Vector Machine)** con tres kernels diferentes: **lineal**, **polinomial** y **RBF**.\n",
    "\n",
    "1. **Reducción de dimensionalidad con PCA**: \n",
    "   - Utilizamos `PCA` para reducir la dimensionalidad de los datos antes de entrenar los modelos SVM.\n",
    "   - El número de componentes principales se selecciona utilizando `n_components=10`, lo que reduce las características a 10 dimensiones.\n",
    "\n",
    "2. **Entrenamiento del modelo SVM con PCA**: \n",
    "   - Entrenamos un modelo SVM con los datos reducidos por PCA para tres kernels diferentes (`linear`, `poly`, `rbf`).\n",
    "\n",
    "3. **Matriz de Confusión**: \n",
    "   - Para cada kernel, generamos y mostramos una matriz de confusión que visualiza la cantidad de verdaderos positivos, verdaderos negativos, falsos positivos y falsos negativos.\n",
    "\n",
    "4. **Informe de Clasificación**: \n",
    "   - Generamos y almacenamos un informe de clasificación para cada kernel con PCA, proporcionando métricas clave como precisión, recall y F1-score.\n"
   ]
  },
  {
   "cell_type": "code",
   "execution_count": 8,
   "metadata": {},
   "outputs": [
    {
     "name": "stdout",
     "output_type": "stream",
     "text": [
      "                 Modelo Precisión Recall F1-Score\n",
      "0           Naive Bayes      0.76   0.82     0.78\n",
      "1                   LDA      0.79   0.84     0.78\n",
      "2                   QDA      0.77   0.77     0.77\n",
      "3          SVM (linear)      0.70   0.84     0.76\n",
      "4            SVM (poly)      0.77   0.84     0.77\n",
      "5             SVM (rbf)      0.81   0.84     0.77\n",
      "6  SVM (linear) con PCA      0.70   0.84     0.76\n",
      "7    SVM (poly) con PCA      0.81   0.84     0.77\n",
      "8     SVM (rbf) con PCA      0.70   0.84     0.76\n"
     ]
    }
   ],
   "source": [
    "# Crear un diccionario para almacenar los resultados de cada modelo\n",
    "resultados = {\n",
    "    'Modelo': ['Naive Bayes', 'LDA', 'QDA', 'SVM (linear)', 'SVM (poly)', 'SVM (rbf)', \n",
    "               'SVM (linear) con PCA', 'SVM (poly) con PCA', 'SVM (rbf) con PCA'],\n",
    "    'Precisión': [nb_report.split()[-4], lda_report.split()[-4], qda_report.split()[-4], \n",
    "                  svm_reports['linear'].split()[-4], svm_reports['poly'].split()[-4], svm_reports['rbf'].split()[-4],\n",
    "                  svm_reports_pca['linear'].split()[-4], svm_reports_pca['poly'].split()[-4], svm_reports_pca['rbf'].split()[-4]],\n",
    "    'Recall': [nb_report.split()[-3], lda_report.split()[-3], qda_report.split()[-3],\n",
    "               svm_reports['linear'].split()[-3], svm_reports['poly'].split()[-3], svm_reports['rbf'].split()[-3],\n",
    "               svm_reports_pca['linear'].split()[-3], svm_reports_pca['poly'].split()[-3], svm_reports_pca['rbf'].split()[-3]],\n",
    "    'F1-Score': [nb_report.split()[-2], lda_report.split()[-2], qda_report.split()[-2],\n",
    "                 svm_reports['linear'].split()[-2], svm_reports['poly'].split()[-2], svm_reports['rbf'].split()[-2],\n",
    "                 svm_reports_pca['linear'].split()[-2], svm_reports_pca['poly'].split()[-2], svm_reports_pca['rbf'].split()[-2]]\n",
    "}\n",
    "\n",
    "# Convertir el diccionario en un DataFrame para mostrar los resultados\n",
    "df_resultados = pd.DataFrame(resultados)\n",
    "\n",
    "# Mostrar el análisis comparativo de los modelos\n",
    "print(df_resultados)\n"
   ]
  },
  {
   "cell_type": "markdown",
   "metadata": {},
   "source": [
    "## Análisis Comparativo de Algoritmos\n",
    "\n",
    "En este bloque de código, analizamos el rendimiento de los diferentes algoritmos probados, tanto con como sin **PCA**. Comparamos las métricas clave para cada modelo:\n",
    "\n",
    "1. **Naive Bayes**: \n",
    "   - Modelo probabilístico simple, funciona mejor en situaciones donde las características son independientes. Sin embargo, puede tener problemas en datasets donde las relaciones entre características son más complejas.\n",
    "\n",
    "2. **LDA (Análisis Discriminante Lineal)**:\n",
    "   - Asume varianzas iguales entre clases. Es un buen modelo para datasets linealmente separables, pero su rendimiento disminuye cuando las clases no tienen varianzas iguales.\n",
    "\n",
    "3. **QDA (Análisis Discriminante Cuadrático)**:\n",
    "   - Similar a LDA, pero permite diferentes varianzas entre clases. Puede mejorar el rendimiento cuando las clases tienen covarianzas distintas.\n",
    "\n",
    "4. **SVM (Máquina de Soporte Vectorial)**:\n",
    "   - Evaluamos tres kernels: **lineal**, **polinomial** y **RBF**. SVM es potente en problemas no lineales y su rendimiento se optimiza ajustando los hiperparámetros.\n",
    "\n",
    "5. **SVM con PCA**: \n",
    "   - Aplicar PCA antes del entrenamiento de SVM puede mejorar el rendimiento reduciendo la dimensionalidad del espacio de características. Observamos cómo afecta PCA a cada kernel.\n",
    "\n",
    "### Métricas Comparadas:\n",
    "- **Precisión**: Proporción de predicciones correctas en todas las instancias.\n",
    "- **Recall**: Proporción de verdaderos positivos entre los ejemplos que son realmente positivos.\n",
    "- **F1-Score**: Media armónica entre la precisión y el recall, que proporciona un balance entre ambas métricas.\n",
    "\n",
    "### Conclusiones:\n",
    "- El modelo con el mejor rendimiento general será aquel con la mejor combinación de precisión, recall y F1-Score, especialmente en el contexto de predicción de impagos.\n"
   ]
  },
  {
   "cell_type": "code",
   "execution_count": 9,
   "metadata": {},
   "outputs": [
    {
     "name": "stdout",
     "output_type": "stream",
     "text": [
      "Informe de Clasificación - Naive Bayes\n",
      "              precision    recall  f1-score   support\n",
      "\n",
      "           0       0.84      0.96      0.90      2408\n",
      "           1       0.30      0.09      0.14       466\n",
      "\n",
      "    accuracy                           0.82      2874\n",
      "   macro avg       0.57      0.52      0.52      2874\n",
      "weighted avg       0.76      0.82      0.78      2874\n",
      "\n",
      "Informe de Clasificación - LDA\n",
      "              precision    recall  f1-score   support\n",
      "\n",
      "           0       0.84      0.99      0.91      2408\n",
      "           1       0.52      0.05      0.09       466\n",
      "\n",
      "    accuracy                           0.84      2874\n",
      "   macro avg       0.68      0.52      0.50      2874\n",
      "weighted avg       0.79      0.84      0.78      2874\n",
      "\n",
      "Informe de Clasificación - QDA\n",
      "              precision    recall  f1-score   support\n",
      "\n",
      "           0       0.86      0.87      0.86      2408\n",
      "           1       0.28      0.28      0.28       466\n",
      "\n",
      "    accuracy                           0.77      2874\n",
      "   macro avg       0.57      0.57      0.57      2874\n",
      "weighted avg       0.77      0.77      0.77      2874\n",
      "\n",
      "Informe de Clasificación - SVM (linear)\n",
      "              precision    recall  f1-score   support\n",
      "\n",
      "           0       0.84      1.00      0.91      2408\n",
      "           1       0.00      0.00      0.00       466\n",
      "\n",
      "    accuracy                           0.84      2874\n",
      "   macro avg       0.42      0.50      0.46      2874\n",
      "weighted avg       0.70      0.84      0.76      2874\n",
      "\n",
      "Informe de Clasificación - SVM (poly)\n",
      "              precision    recall  f1-score   support\n",
      "\n",
      "           0       0.84      0.99      0.91      2408\n",
      "           1       0.39      0.03      0.05       466\n",
      "\n",
      "    accuracy                           0.84      2874\n",
      "   macro avg       0.62      0.51      0.48      2874\n",
      "weighted avg       0.77      0.84      0.77      2874\n",
      "\n",
      "Informe de Clasificación - SVM (rbf)\n",
      "              precision    recall  f1-score   support\n",
      "\n",
      "           0       0.84      1.00      0.91      2408\n",
      "           1       0.67      0.00      0.01       466\n",
      "\n",
      "    accuracy                           0.84      2874\n",
      "   macro avg       0.75      0.50      0.46      2874\n",
      "weighted avg       0.81      0.84      0.77      2874\n",
      "\n",
      "Informe de Clasificación - SVM (linear) con PCA\n",
      "              precision    recall  f1-score   support\n",
      "\n",
      "           0       0.84      1.00      0.91      2408\n",
      "           1       0.00      0.00      0.00       466\n",
      "\n",
      "    accuracy                           0.84      2874\n",
      "   macro avg       0.42      0.50      0.46      2874\n",
      "weighted avg       0.70      0.84      0.76      2874\n",
      "\n",
      "Informe de Clasificación - SVM (poly) con PCA\n",
      "              precision    recall  f1-score   support\n",
      "\n",
      "           0       0.84      1.00      0.91      2408\n",
      "           1       0.67      0.00      0.01       466\n",
      "\n",
      "    accuracy                           0.84      2874\n",
      "   macro avg       0.75      0.50      0.46      2874\n",
      "weighted avg       0.81      0.84      0.77      2874\n",
      "\n",
      "Informe de Clasificación - SVM (rbf) con PCA\n",
      "              precision    recall  f1-score   support\n",
      "\n",
      "           0       0.84      1.00      0.91      2408\n",
      "           1       0.00      0.00      0.00       466\n",
      "\n",
      "    accuracy                           0.84      2874\n",
      "   macro avg       0.42      0.50      0.46      2874\n",
      "weighted avg       0.70      0.84      0.76      2874\n",
      "\n",
      "                 Modelo Precisión Clase 1 Recall Clase 1 F1-Score Clase 1\n",
      "0           Naive Bayes              0.14            466         accuracy\n",
      "1                   LDA              0.09            466         accuracy\n",
      "2                   QDA              0.28            466         accuracy\n",
      "3          SVM (linear)              0.00            466         accuracy\n",
      "4            SVM (poly)              0.05            466         accuracy\n",
      "5             SVM (rbf)              0.01            466         accuracy\n",
      "6  SVM (linear) con PCA              0.00            466         accuracy\n",
      "7    SVM (poly) con PCA              0.01            466         accuracy\n",
      "8     SVM (rbf) con PCA              0.00            466         accuracy\n"
     ]
    }
   ],
   "source": [
    "# Imprimir los reportes completos para cada modelo\n",
    "print(\"Informe de Clasificación - Naive Bayes\")\n",
    "print(nb_report)\n",
    "\n",
    "print(\"Informe de Clasificación - LDA\")\n",
    "print(lda_report)\n",
    "\n",
    "print(\"Informe de Clasificación - QDA\")\n",
    "print(qda_report)\n",
    "\n",
    "print(\"Informe de Clasificación - SVM (linear)\")\n",
    "print(svm_reports['linear'])\n",
    "\n",
    "print(\"Informe de Clasificación - SVM (poly)\")\n",
    "print(svm_reports['poly'])\n",
    "\n",
    "print(\"Informe de Clasificación - SVM (rbf)\")\n",
    "print(svm_reports['rbf'])\n",
    "\n",
    "print(\"Informe de Clasificación - SVM (linear) con PCA\")\n",
    "print(svm_reports_pca['linear'])\n",
    "\n",
    "print(\"Informe de Clasificación - SVM (poly) con PCA\")\n",
    "print(svm_reports_pca['poly'])\n",
    "\n",
    "print(\"Informe de Clasificación - SVM (rbf) con PCA\")\n",
    "print(svm_reports_pca['rbf'])\n",
    "\n",
    "\n",
    "# Crear un diccionario para almacenar los resultados específicos para la clase 1 (los que no pagaron)\n",
    "resultados_clase_1 = {\n",
    "    'Modelo': ['Naive Bayes', 'LDA', 'QDA', 'SVM (linear)', 'SVM (poly)', 'SVM (rbf)', \n",
    "               'SVM (linear) con PCA', 'SVM (poly) con PCA', 'SVM (rbf) con PCA'],\n",
    "    # Extraer las métricas para la clase 1\n",
    "    'Precisión Clase 1': [nb_report.split()[12], lda_report.split()[12], qda_report.split()[12], \n",
    "                          svm_reports['linear'].split()[12], svm_reports['poly'].split()[12], svm_reports['rbf'].split()[12],\n",
    "                          svm_reports_pca['linear'].split()[12], svm_reports_pca['poly'].split()[12], svm_reports_pca['rbf'].split()[12]],\n",
    "    'Recall Clase 1': [nb_report.split()[13], lda_report.split()[13], qda_report.split()[13],\n",
    "                       svm_reports['linear'].split()[13], svm_reports['poly'].split()[13], svm_reports['rbf'].split()[13],\n",
    "                       svm_reports_pca['linear'].split()[13], svm_reports_pca['poly'].split()[13], svm_reports_pca['rbf'].split()[13]],\n",
    "    'F1-Score Clase 1': [nb_report.split()[14], lda_report.split()[14], qda_report.split()[14],\n",
    "                         svm_reports['linear'].split()[14], svm_reports['poly'].split()[14], svm_reports['rbf'].split()[14],\n",
    "                         svm_reports_pca['linear'].split()[14], svm_reports_pca['poly'].split()[14], svm_reports_pca['rbf'].split()[14]]\n",
    "}\n",
    "\n",
    "# Convertir el diccionario en un DataFrame para mostrar los resultados de la clase 1\n",
    "df_resultados_clase_1 = pd.DataFrame(resultados_clase_1)\n",
    "\n",
    "# Mostrar el análisis comparativo específico para la clase 1\n",
    "print(df_resultados_clase_1)\n"
   ]
  },
  {
   "cell_type": "code",
   "execution_count": 11,
   "metadata": {},
   "outputs": [
    {
     "data": {
      "image/png": "[encoded data removed]",
      "text/plain": [
       "<Figure size 432x288 with 2 Axes>"
      ]
     },
     "metadata": {
      "needs_background": "light"
     },
     "output_type": "display_data"
    },
    {
     "data": {
      "image/png": "[encoded data removed]",
      "text/plain": [
       "<Figure size 432x288 with 2 Axes>"
      ]
     },
     "metadata": {
      "needs_background": "light"
     },
     "output_type": "display_data"
    },
    {
     "data": {
      "image/png": "[encoded data removed]",
      "text/plain": [
       "<Figure size 432x288 with 2 Axes>"
      ]
     },
     "metadata": {
      "needs_background": "light"
     },
     "output_type": "display_data"
    },
    {
     "ename": "NameError",
     "evalue": "name 'disp_svm_linear' is not defined",
     "output_type": "error",
     "traceback": [
      "\u001b[1;31m---------------------------------------------------------------------------\u001b[0m",
      "\u001b[1;31mNameError\u001b[0m                                 Traceback (most recent call last)",
      "Input \u001b[1;32mIn [11]\u001b[0m, in \u001b[0;36m<module>\u001b[1;34m\u001b[0m\n\u001b[0;32m     14\u001b[0m plt\u001b[38;5;241m.\u001b[39mshow()\n\u001b[0;32m     16\u001b[0m \u001b[38;5;66;03m# SVM (linear)\u001b[39;00m\n\u001b[1;32m---> 17\u001b[0m \u001b[43mdisp_svm_linear\u001b[49m\u001b[38;5;241m.\u001b[39mplot(cmap\u001b[38;5;241m=\u001b[39m\u001b[38;5;124m'\u001b[39m\u001b[38;5;124mBlues\u001b[39m\u001b[38;5;124m'\u001b[39m)\n\u001b[0;32m     18\u001b[0m plt\u001b[38;5;241m.\u001b[39mtitle(\u001b[38;5;124m'\u001b[39m\u001b[38;5;124mMatriz de Confusión - SVM (linear)\u001b[39m\u001b[38;5;124m'\u001b[39m)\n\u001b[0;32m     19\u001b[0m plt\u001b[38;5;241m.\u001b[39mshow()\n",
      "\u001b[1;31mNameError\u001b[0m: name 'disp_svm_linear' is not defined"
     ]
    }
   ],
   "source": [
    "# Naive Bayes\n",
    "disp_nb.plot(cmap='Blues')\n",
    "plt.title('Matriz de Confusión - Naive Bayes')\n",
    "plt.show()\n",
    "\n",
    "# LDA\n",
    "disp_lda.plot(cmap='Blues')\n",
    "plt.title('Matriz de Confusión - LDA')\n",
    "plt.show()\n",
    "\n",
    "# QDA\n",
    "disp_qda.plot(cmap='Blues')\n",
    "plt.title('Matriz de Confusión - QDA')\n",
    "plt.show()\n",
    "\n",
    "# SVM (linear)\n",
    "disp_svm_linear.plot(cmap='Blues')\n",
    "plt.title('Matriz de Confusión - SVM (linear)')\n",
    "plt.show()\n",
    "\n",
    "# SVM (poly)\n",
    "disp_svm_poly.plot(cmap='Blues')\n",
    "plt.title('Matriz de Confusión - SVM (poly)')\n",
    "plt.show()\n",
    "\n",
    "# SVM (rbf)\n",
    "disp_svm_rbf.plot(cmap='Blues')\n",
    "plt.title('Matriz de Confusión - SVM (rbf)')\n",
    "plt.show()\n"
   ]
  },
  {
   "cell_type": "code",
   "execution_count": 15,
   "metadata": {},
   "outputs": [
    {
     "name": "stdout",
     "output_type": "stream",
     "text": [
      "Matriz de Confusión - Naive Bayes\n",
      "[[2309   99]\n",
      " [ 424   42]]\n",
      "\n",
      "Matriz de Confusión - LDA\n",
      "[[2387   21]\n",
      " [ 443   23]]\n",
      "\n",
      "Matriz de Confusión - QDA\n",
      "[[2083  325]\n",
      " [ 337  129]]\n",
      "\n",
      "Matriz de Confusión - SVM (linear)\n",
      "[[2408    0]\n",
      " [ 466    0]]\n",
      "\n",
      "Matriz de Confusión - SVM (poly)\n",
      "[[2388   20]\n",
      " [ 453   13]]\n",
      "\n",
      "Matriz de Confusión - SVM (rbf)\n",
      "[[2407    1]\n",
      " [ 464    2]]\n"
     ]
    }
   ],
   "source": [
    "# Imprimir las matrices de confusión en formato de texto\n",
    "\n",
    "# Naive Bayes\n",
    "print(\"Matriz de Confusión - Naive Bayes\")\n",
    "print(cm_nb)\n",
    "\n",
    "# LDA\n",
    "print(\"\\nMatriz de Confusión - LDA\")\n",
    "print(cm_lda)\n",
    "\n",
    "# QDA\n",
    "print(\"\\nMatriz de Confusión - QDA\")\n",
    "print(cm_qda)\n",
    "\n",
    "# SVM (linear)\n",
    "print(\"\\nMatriz de Confusión - SVM (linear)\")\n",
    "print(svm_confusion_matrices[\"linear\"])\n",
    "\n",
    "# SVM (poly)\n",
    "print(\"\\nMatriz de Confusión - SVM (poly)\")\n",
    "print(svm_confusion_matrices[\"poly\"])\n",
    "\n",
    "# SVM (rbf)\n",
    "print(\"\\nMatriz de Confusión - SVM (rbf)\")\n",
    "print(svm_confusion_matrices[\"rbf\"])\n"
   ]
  },
  {
   "cell_type": "markdown",
   "metadata": {},
   "source": [
    "### Conclusión del Análisis de Modelos\n",
    "\n",
    "Al analizar las matrices de confusión de los diferentes modelos, llegamos a las siguientes conclusiones sobre su capacidad para detectar a los clientes que **no pagaron** (clase 1):\n",
    "\n",
    "1. **Naive Bayes**:\n",
    "   - **Verdaderos negativos**: 2309\n",
    "   - **Falsos negativos**: 424\n",
    "   - **Verdaderos positivos**: 42\n",
    "   - Aunque **Naive Bayes** detecta a algunos clientes que no pagaron (42), tiene una gran cantidad de **falsos negativos** (424), lo que limita su capacidad de capturar a la clase minoritaria.\n",
    "\n",
    "2. **LDA**:\n",
    "   - **Verdaderos negativos**: 2387\n",
    "   - **Falsos negativos**: 443\n",
    "   - **Verdaderos positivos**: 23\n",
    "   - **LDA** captura solo **23** clientes que no pagaron, con un elevado número de **falsos negativos** (443), lo que sugiere que este modelo no es eficaz en la detección de la clase minoritaria.\n",
    "\n",
    "3. **QDA (Análisis Discriminante Cuadrático)**:\n",
    "   - **Verdaderos negativos**: 2083\n",
    "   - **Falsos negativos**: 337\n",
    "   - **Verdaderos positivos**: 129\n",
    "   - **QDA** es el modelo que mejor captura a los clientes que no pagaron, con **129 verdaderos positivos**. A pesar de tener más falsos positivos, reduce significativamente los **falsos negativos** (337) en comparación con otros modelos. Esto lo convierte en la mejor opción si el objetivo es detectar a quienes no pagaron.\n",
    "\n",
    "4. **SVM (linear)**:\n",
    "   - **Verdaderos negativos**: 2408\n",
    "   - **Falsos negativos**: 466\n",
    "   - **Verdaderos positivos**: 0\n",
    "   - **SVM con kernel lineal** no detecta ningún cliente que no pagó (**0 verdaderos positivos**) y clasifica erróneamente a todos los que no pagaron como si hubieran pagado (**466 falsos negativos**).\n",
    "\n",
    "5. **SVM (poly)**:\n",
    "   - **Verdaderos negativos**: 2388\n",
    "   - **Falsos negativos**: 453\n",
    "   - **Verdaderos positivos**: 13\n",
    "   - **SVM con kernel polinomial** detecta solo **13** clientes que no pagaron, lo que es un rendimiento muy bajo, con una gran cantidad de **falsos negativos** (453).\n",
    "\n",
    "6. **SVM (rbf)**:\n",
    "   - **Verdaderos negativos**: 2407\n",
    "   - **Falsos negativos**: 464\n",
    "   - **Verdaderos positivos**: 2\n",
    "   - **SVM con kernel RBF** también tiene un rendimiento muy bajo en la detección de los clientes que no pagaron, con solo **2 verdaderos positivos** y una gran cantidad de **falsos negativos** (464).\n",
    "\n",
    "### Conclusión General:\n",
    "- **QDA** es claramente el modelo más efectivo para detectar a los clientes que no pagaron, con **129 verdaderos positivos**, aunque a costa de un mayor número de falsos positivos (325).\n",
    "- Los modelos **SVM** (lineal, polinomial, y RBF) tienen serias dificultades para capturar a los que no pagaron, con muchos falsos negativos y muy pocos o ningún verdadero positivo.\n",
    "- **Naive Bayes** y **LDA** también fallan en gran medida a la hora de detectar a la clase minoritaria, aunque Naive Bayes ofrece un rendimiento ligeramente superior al de LDA.\n",
    "\n",
    "En virtud de lo estudiado y las dificultades que presentan la mayoria de algoritmos, notese por ejemplo los resutados de los algortimos de soporte vectorial, es que concluimos que el algortimo que mejor clasifica este Dataset es el algortimo Discriminante Cuadratico. Este conforme su matriz de confusion, tiene un numero alto de aciertos al momomento de la clasificacion de los NO PAGADORES. Valga decir aquellas personas que no pagaran si sacan un credito u otro producto bancario.\n"
   ]
  },
  {
   "cell_type": "code",
   "execution_count": 18,
   "metadata": {},
   "outputs": [
    {
     "name": "stdout",
     "output_type": "stream",
     "text": [
      "Varianza explicada por cada componente principal: [0.15372855 0.11351577 0.08812023 0.07287171 0.06557831]\n",
      "              precision    recall  f1-score   support\n",
      "\n",
      "           0       0.85      0.94      0.90      2408\n",
      "           1       0.34      0.15      0.20       466\n",
      "\n",
      "    accuracy                           0.82      2874\n",
      "   macro avg       0.59      0.55      0.55      2874\n",
      "weighted avg       0.77      0.82      0.78      2874\n",
      "\n"
     ]
    },
    {
     "data": {
      "image/png": "[encoded data removed]",
      "text/plain": [
       "<Figure size 432x288 with 2 Axes>"
      ]
     },
     "metadata": {
      "needs_background": "light"
     },
     "output_type": "display_data"
    }
   ],
   "source": [
    "# Aplicar PCA para ver cómo las características contribuyen a la varianza\n",
    "pca = PCA(n_components=5)\n",
    "X_train_pca = pca.fit_transform(X_train_scaled)\n",
    "print(f\"Varianza explicada por cada componente principal: {pca.explained_variance_ratio_}\")\n",
    "\n",
    "# Entrenar el modelo QDA con las nuevas características de PCA\n",
    "model_qda_pca = QuadraticDiscriminantAnalysis()\n",
    "model_qda_pca.fit(X_train_pca, y_train)\n",
    "y_pred_qda_pca = model_qda_pca.predict(pca.transform(X_test_scaled))\n",
    "\n",
    "# Evaluar el modelo con las características transformadas\n",
    "print(classification_report(y_test, y_pred_qda_pca))\n",
    "\n",
    "# Generar la matriz de confusión y almacenarla\n",
    "cm_qda_pca = confusion_matrix(y_test, y_pred_qda)\n",
    "disp_qda_pca = ConfusionMatrixDisplay(confusion_matrix=cm_qda_pca)\n",
    "disp_qda_pca.plot(cmap='Blues')\n",
    "\n",
    "# Guardar la matriz de confusión para análisis posterior\n",
    "qda_pca_confusion_matrix = cm_qda_pca"
   ]
  },
  {
   "cell_type": "code",
   "execution_count": 19,
   "metadata": {},
   "outputs": [
    {
     "name": "stdout",
     "output_type": "stream",
     "text": [
      "Rendimiento promedio con validación cruzada (F1-Score): 0.2862976249458314\n"
     ]
    }
   ],
   "source": [
    "# Aplicar validación cruzada con QDA\n",
    "cross_val_scores_qda = cross_val_score(model_qda_pca, X_train_scaled, y_train, cv=5, scoring='f1')\n",
    "\n",
    "# Promedio de los puntajes de validación cruzada\n",
    "print(f\"Rendimiento promedio con validación cruzada (F1-Score): {cross_val_scores_qda.mean()}\")\n"
   ]
  }
 ],
 "metadata": {
  "kernelspec": {
   "display_name": "Python 3",
   "language": "python",
   "name": "python3"
  },
  "language_info": {
   "codemirror_mode": {
    "name": "ipython",
    "version": 3
   },
   "file_extension": ".py",
   "mimetype": "text/x-python",
   "name": "python",
   "nbconvert_exporter": "python",
   "pygments_lexer": "ipython3",
   "version": "3.10.2"
  }
 },
 "nbformat": 4,
 "nbformat_minor": 2
}
