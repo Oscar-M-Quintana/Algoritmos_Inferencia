{
 "cells": [
  {
   "cell_type": "markdown",
   "id": "ce770b07",
   "metadata": {},
   "source": [
    "# Aplicación del Algoritmo Discriminante Lineal (LDA) para Clasificar Estrellas\n",
    "Este notebook utiliza el dataset de estrellas para entrenar un modelo con el algoritmo de Análisis Discriminante Lineal (LDA) y evaluar su desempeño mediante una matriz de confusión.\n",
    "\n",
    "El dataset contiene características físicas de estrellas y la clasificación por tipo de estrella."
   ]
  },
  {
   "cell_type": "code",
   "execution_count": null,
   "id": "fa506545",
   "metadata": {},
   "outputs": [],
   "source": [
    "# Importar las bibliotecas necesarias\n",
    "import pandas as pd\n",
    "from sklearn.model_selection import train_test_split\n",
    "from sklearn.discriminant_analysis import LinearDiscriminantAnalysis\n",
    "from sklearn.metrics import confusion_matrix, classification_report\n",
    "import matplotlib.pyplot as plt\n",
    "import seaborn as sns\n",
    "import numpy as np"
   ]
  },
  {
   "cell_type": "markdown",
   "id": "918125fe",
   "metadata": {},
   "source": [
    "## Cargar el Dataset\n",
    "Cargamos el dataset que contiene información sobre diferentes tipos de estrellas."
   ]
  },
  {
   "cell_type": "code",
   "execution_count": null,
   "id": "d91c0fd2",
   "metadata": {},
   "outputs": [],
   "source": [
    "# Cargar el dataset\n",
    "data = pd.read_csv('/path/to/estrella.csv')\n",
    "data.head()  # Mostrar las primeras filas del dataset"
   ]
  },
  {
   "cell_type": "markdown",
   "id": "bb5c8e4a",
   "metadata": {},
   "source": [
    "## Preprocesamiento\n",
    "Separaremos las características independientes (`X`) de la variable objetivo (`y`), que indica el tipo de estrella."
   ]
  },
  {
   "cell_type": "code",
   "execution_count": null,
   "id": "20d44b5d",
   "metadata": {},
   "outputs": [],
   "source": [
    "# Separar las variables independientes y dependientes\n",
    "X = data[['Temperature (K)', 'Luminosity(L/Lo)', 'Radius(R/Ro)', 'Absolute magnitude(Mv)']]\n",
    "y = data['Star type']"
   ]
  },
  {
   "cell_type": "markdown",
   "id": "4297c151",
   "metadata": {},
   "source": [
    "## División del Conjunto de Datos\n",
    "Dividimos los datos en un conjunto de entrenamiento y un conjunto de prueba utilizando un 70% para el entrenamiento y un 30% para las pruebas."
   ]
  },
  {
   "cell_type": "code",
   "execution_count": null,
   "id": "f511382e",
   "metadata": {},
   "outputs": [],
   "source": [
    "# Dividir el dataset en conjunto de entrenamiento y prueba\n",
    "X_train, X_test, y_train, y_test = train_test_split(X, y, test_size=0.3, random_state=42)"
   ]
  },
  {
   "cell_type": "markdown",
   "id": "7e603305",
   "metadata": {},
   "source": [
    "## Entrenamiento del Modelo LDA\n",
    "Entrenamos el modelo de Análisis Discriminante Lineal (LDA) con el conjunto de entrenamiento."
   ]
  },
  {
   "cell_type": "code",
   "execution_count": null,
   "id": "6001cd38",
   "metadata": {},
   "outputs": [],
   "source": [
    "# Crear y entrenar el modelo LDA\n",
    "model = LinearDiscriminantAnalysis()\n",
    "model.fit(X_train, y_train)"
   ]
  },
  {
   "cell_type": "markdown",
   "id": "67f03dd9",
   "metadata": {},
   "source": [
    "## Evaluación del Modelo\n",
    "Realizamos predicciones en el conjunto de prueba y generamos la matriz de confusión para evaluar el desempeño del modelo."
   ]
  },
  {
   "cell_type": "code",
   "execution_count": null,
   "id": "edb733dc",
   "metadata": {},
   "outputs": [],
   "source": [
    "# Realizar predicciones y generar la matriz de confusión\n",
    "y_pred = model.predict(X_test)\n",
    "conf_matrix = confusion_matrix(y_test, y_pred)\n",
    "\n",
    "# Visualizar la matriz de confusión\n",
    "plt.figure(figsize=(8,6))\n",
    "sns.heatmap(conf_matrix, annot=True, fmt='d', cmap='Blues', xticklabels=model.classes_, yticklabels=model.classes_)\n",
    "plt.xlabel('Predicted')\n",
    "plt.ylabel('Actual')\n",
    "plt.title('Confusion Matrix for Star Type Prediction')\n",
    "plt.show()"
   ]
  },
  {
   "cell_type": "markdown",
   "id": "77155f3a",
   "metadata": {},
   "source": [
    "## Informe de Clasificación\n",
    "Además de la matriz de confusión, generamos un informe de clasificación que incluye precisión, recall y F1-score."
   ]
  },
  {
   "cell_type": "code",
   "execution_count": null,
   "id": "949b528a",
   "metadata": {},
   "outputs": [],
   "source": [
    "# Mostrar el informe de clasificación\n",
    "print(classification_report(y_test, y_pred))"
   ]
  },
  {
   "cell_type": "markdown",
   "id": "4f888ca4",
   "metadata": {},
   "source": [
    "## Visualización de la Proyección LDA\n",
    "El algoritmo LDA puede reducir las dimensiones del conjunto de datos. Aquí visualizamos la proyección en el primer componente discriminante para observar cómo se distribuyen las clases."
   ]
  },
  {
   "cell_type": "code",
   "execution_count": null,
   "id": "3c080237",
   "metadata": {},
   "outputs": [],
   "source": [
    "# Reducir las dimensiones con LDA y visualizar la proyección\n",
    "X_lda = model.transform(X_train)\n",
    "plt.figure(figsize=(8,6))\n",
    "colors = ['red', 'green', 'blue', 'orange', 'purple', 'brown']\n",
    "for i, color in zip(np.unique(y_train), colors):\n",
    "    plt.scatter(X_lda[y_train == i, 0], np.zeros_like(X_lda[y_train == i, 0]), \n",
    "                color=color, alpha=0.5, label=f'Star Type {i}')\n",
    "plt.title('LDA Projection - First Discriminant Component')\n",
    "plt.xlabel('Discriminant Component 1')\n",
    "plt.legend(loc='best')\n",
    "plt.show()"
   ]
  }
 ],
 "metadata": {},
 "nbformat": 4,
 "nbformat_minor": 5
}