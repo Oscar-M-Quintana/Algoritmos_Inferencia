{
 "cells": [
  {
   "cell_type": "code",
   "execution_count": 1,
   "metadata": {},
   "outputs": [
    {
     "ename": "NameError",
     "evalue": "name 'data' is not defined",
     "output_type": "error",
     "traceback": [
      "\u001b[1;31m---------------------------------------------------------------------------\u001b[0m",
      "\u001b[1;31mNameError\u001b[0m                                 Traceback (most recent call last)",
      "Input \u001b[1;32mIn [1]\u001b[0m, in \u001b[0;36m<module>\u001b[1;34m\u001b[0m\n\u001b[0;32m      5\u001b[0m \u001b[38;5;28;01mimport\u001b[39;00m \u001b[38;5;21;01mnumpy\u001b[39;00m \u001b[38;5;28;01mas\u001b[39;00m \u001b[38;5;21;01mnp\u001b[39;00m\n\u001b[0;32m      7\u001b[0m \u001b[38;5;66;03m# Seleccionar solo las columnas numéricas para PCA\u001b[39;00m\n\u001b[1;32m----> 8\u001b[0m X_pca \u001b[38;5;241m=\u001b[39m \u001b[43mdata\u001b[49m[[\u001b[38;5;124m'\u001b[39m\u001b[38;5;124mTemperature (K)\u001b[39m\u001b[38;5;124m'\u001b[39m, \u001b[38;5;124m'\u001b[39m\u001b[38;5;124mLuminosity(L/Lo)\u001b[39m\u001b[38;5;124m'\u001b[39m, \u001b[38;5;124m'\u001b[39m\u001b[38;5;124mRadius(R/Ro)\u001b[39m\u001b[38;5;124m'\u001b[39m, \u001b[38;5;124m'\u001b[39m\u001b[38;5;124mAbsolute magnitude(Mv)\u001b[39m\u001b[38;5;124m'\u001b[39m]]\n\u001b[0;32m     10\u001b[0m \u001b[38;5;66;03m# Estandarizar los datos (media=0, varianza=1) para que todas las características estén en la misma escala\u001b[39;00m\n\u001b[0;32m     11\u001b[0m scaler \u001b[38;5;241m=\u001b[39m StandardScaler()\n",
      "\u001b[1;31mNameError\u001b[0m: name 'data' is not defined"
     ]
    }
   ],
   "source": [
    "# Importar las bibliotecas necesarias para PCA\n",
    "from sklearn.decomposition import PCA\n",
    "from sklearn.preprocessing import StandardScaler\n",
    "import matplotlib.pyplot as plt\n",
    "import numpy as np\n",
    "\n",
    "\n",
    "\n",
    "# Seleccionar solo las columnas numéricas para PCA\n",
    "X_pca = data[['Temperature (K)', 'Luminosity(L/Lo)', 'Radius(R/Ro)', 'Absolute magnitude(Mv)']]\n",
    "\n",
    "# Estandarizar los datos (media=0, varianza=1) para que todas las características estén en la misma escala\n",
    "scaler = StandardScaler()\n",
    "X_scaled = scaler.fit_transform(X_pca)\n",
    "\n",
    "# Aplicar PCA\n",
    "pca = PCA(n_components=2)  # Reducir a 2 componentes principales para visualización\n",
    "X_pca_transformed = pca.fit_transform(X_scaled)\n",
    "\n",
    "# Explicar la varianza acumulada por los componentes principales\n",
    "explained_variance = pca.explained_variance_ratio_\n",
    "\n",
    "# Visualización del PCA en un gráfico 2D\n",
    "plt.figure(figsize=(8,6))\n",
    "plt.scatter(X_pca_transformed[:, 0], X_pca_transformed[:, 1], c=data['Star type'], cmap='viridis', edgecolor='k', s=50)\n",
    "plt.title('PCA - Reducción a 2 Componentes Principales')\n",
    "plt.xlabel(f'Componente Principal 1 ({explained_variance[0]*100:.2f}% varianza explicada)')\n",
    "plt.ylabel(f'Componente Principal 2 ({explained_variance[1]*100:.2f}% varianza explicada)')\n",
    "plt.colorbar(label='Tipo de Estrella')\n",
    "plt.show()\n",
    "\n",
    "# Mostrar la varianza explicada por cada componente\n",
    "print(f\"Varianza explicada por el primer componente: {explained_variance[0]*100:.2f}%\")\n",
    "print(f\"Varianza explicada por el segundo componente: {explained_variance[1]*100:.2f}%\")\n"
   ]
  }
 ],
 "metadata": {
  "kernelspec": {
   "display_name": "Python 3",
   "language": "python",
   "name": "python3"
  },
  "language_info": {
   "codemirror_mode": {
    "name": "ipython",
    "version": 3
   },
   "file_extension": ".py",
   "mimetype": "text/x-python",
   "name": "python",
   "nbconvert_exporter": "python",
   "pygments_lexer": "ipython3",
   "version": "3.10.2"
  }
 },
 "nbformat": 4,
 "nbformat_minor": 2
}
