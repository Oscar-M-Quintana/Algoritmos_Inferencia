{
 "cells": [
  {
   "cell_type": "markdown",
   "id": "c67d42c5",
   "metadata": {},
   "source": [
    "# Análisis de Componentes Principales (PCA) para un conjunto de datos de estrellas"
   ]
  },
  {
   "cell_type": "markdown",
   "id": "6291c344",
   "metadata": {},
   "source": [
    "## Paso 1: Importar las librerías necesarias"
   ]
  },
  {
   "cell_type": "code",
   "execution_count": null,
   "id": "722c5bc8",
   "metadata": {},
   "outputs": [],
   "source": [
    "\n",
    "# Asegúrate de tener instaladas las librerías necesarias. Puedes instalarlas utilizando pip si aún no las tienes:\n",
    "\n",
    "# %pip install matplotlib seaborn pandas numpy scikit-learn\n",
    "import matplotlib.pyplot as plt\n",
    "import seaborn as sns\n",
    "import pandas as pd\n",
    "import numpy as np\n",
    "from sklearn.preprocessing import StandardScaler\n",
    "from sklearn.decomposition import PCA\n"
   ]
  },
  {
   "cell_type": "markdown",
   "id": "770735d4",
   "metadata": {},
   "source": [
    "## Paso 2: Leer el archivo CSV y explorar los datos"
   ]
  },
  {
   "cell_type": "code",
   "execution_count": null,
   "id": "cb356aca",
   "metadata": {},
   "outputs": [],
   "source": [
    "\n",
    "# Leer el archivo CSV\n",
    "data = pd.read_csv('estrella.csv')\n",
    "\n",
    "# Mostrar las primeras filas del DataFrame\n",
    "data.head()\n"
   ]
  },
  {
   "cell_type": "markdown",
   "id": "5611690b",
   "metadata": {},
   "source": [
    "## Paso 3: Preprocesamiento de los datos"
   ]
  },
  {
   "cell_type": "code",
   "execution_count": null,
   "id": "871389d1",
   "metadata": {},
   "outputs": [],
   "source": [
    "\n",
    "# Seleccionar las columnas numéricas que serán usadas para PCA\n",
    "features = ['Temperature (K)', 'Luminosity(L/Lo)', 'Radius(R/Ro)', 'Absolute magnitude(Mv)']\n",
    "x = data[features].values\n",
    "\n",
    "# Estandarizar los datos\n",
    "scaler = StandardScaler()\n",
    "x_scaled = scaler.fit_transform(x)\n"
   ]
  },
  {
   "cell_type": "markdown",
   "id": "d3b57769",
   "metadata": {},
   "source": [
    "## Paso 4: Aplicar PCA"
   ]
  },
  {
   "cell_type": "code",
   "execution_count": null,
   "id": "30482b91",
   "metadata": {},
   "outputs": [],
   "source": [
    "\n",
    "# Inicializar PCA con el número de componentes deseado (por ejemplo, 2 componentes principales)\n",
    "pca = PCA(n_components=2)\n",
    "\n",
    "# Ajustar PCA a los datos escalados\n",
    "principal_components = pca.fit_transform(x_scaled)\n",
    "\n",
    "# Crear un DataFrame con los componentes principales\n",
    "pca_df = pd.DataFrame(data=principal_components, columns=['PC1', 'PC2'])\n",
    "\n",
    "# Añadir las otras columnas para referencia\n",
    "final_df = pd.concat([pca_df, data[['Star type', 'Star color', 'Spectral Class']]], axis=1)\n",
    "\n",
    "# Mostrar las primeras filas del nuevo DataFrame\n",
    "final_df.head()\n"
   ]
  },
  {
   "cell_type": "markdown",
   "id": "5504e973",
   "metadata": {},
   "source": [
    "## Paso 5: Visualizar los resultados"
   ]
  },
  {
   "cell_type": "code",
   "execution_count": null,
   "id": "d5935ec6",
   "metadata": {},
   "outputs": [],
   "source": [
    "\n",
    "# Visualizar los componentes principales con un scatter plot\n",
    "plt.figure(figsize=(10, 7))\n",
    "sns.scatterplot(x='PC1', y='PC2', hue='Star type', data=final_df, palette='Set1')\n",
    "\n",
    "plt.title('PCA of Star Dataset')\n",
    "plt.xlabel('Principal Component 1')\n",
    "plt.ylabel('Principal Component 2')\n",
    "plt.show()\n"
   ]
  },
  {
   "cell_type": "markdown",
   "id": "5794ff07",
   "metadata": {},
   "source": [
    "## Paso 6: Interpretar los resultados"
   ]
  },
  {
   "cell_type": "markdown",
   "id": "f5b479cd",
   "metadata": {},
   "source": [
    "\n",
    "Los componentes principales (PC1 y PC2) son combinaciones lineales de las variables originales que capturan la mayor cantidad de varianza posible. El scatter plot te dará una idea de cómo se agrupan los diferentes tipos de estrellas según los componentes principales.\n"
   ]
  }
 ],
 "metadata": {},
 "nbformat": 4,
 "nbformat_minor": 5
}
